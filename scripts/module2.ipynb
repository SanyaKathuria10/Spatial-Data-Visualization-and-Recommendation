{
 "cells": [
  {
   "cell_type": "code",
   "execution_count": 1,
   "metadata": {},
   "outputs": [],
   "source": [
    "import pandas as pd\n",
    "import math\n",
    "from scipy.spatial import ConvexHull\n",
    "import numpy as np"
   ]
  },
  {
   "cell_type": "code",
   "execution_count": 2,
   "metadata": {},
   "outputs": [],
   "source": [
    "df = pd.read_csv(\"../data/data-ny.csv\", sep = ',', header=None, names =  ['userid', 'venueid', 'venuecatid', 'venuecatname','latitude','longitude','timezone','utctime'])\n",
    "category = \"Coffee Shop\"\n",
    "user = 642\n",
    "time = 16"
   ]
  },
  {
   "cell_type": "code",
   "execution_count": 3,
   "metadata": {},
   "outputs": [],
   "source": [
    "category_rows = df.loc[df['venuecatname'] == category]"
   ]
  },
  {
   "cell_type": "code",
   "execution_count": 4,
   "metadata": {},
   "outputs": [
    {
     "name": "stdout",
     "output_type": "stream",
     "text": [
      "    userid                   venueid                venuecatid venuecatname  \\\n",
      "6      642  4ab966c3f964a5203c7f20e3  4bf58dd8d48988d1e0931735  Coffee Shop   \n",
      "18     895  4bb7e0c41261d13a8707e898  4bf58dd8d48988d1e0931735  Coffee Shop   \n",
      "21     284  4abe60d8f964a520198d20e3  4bf58dd8d48988d1e0931735  Coffee Shop   \n",
      "46     751  49b15042f964a520d4521fe3  4bf58dd8d48988d1e0931735  Coffee Shop   \n",
      "68     612  4ae8495ef964a5207fae21e3  4bf58dd8d48988d1e0931735  Coffee Shop   \n",
      "\n",
      "     latitude  longitude  timezone                         utctime  \n",
      "6   40.751591 -73.974121      -240  Tue Apr 03 18:04:38 +0000 2012  \n",
      "18  40.906627 -73.777774      -240  Tue Apr 03 18:11:16 +0000 2012  \n",
      "21  40.742816 -74.000406      -240  Tue Apr 03 18:12:27 +0000 2012  \n",
      "46  40.727612 -74.007306      -240  Tue Apr 03 18:24:51 +0000 2012  \n",
      "68  40.762601 -73.966006      -240  Tue Apr 03 18:42:25 +0000 2012  \n"
     ]
    }
   ],
   "source": [
    "print(category_rows.head())"
   ]
  },
  {
   "cell_type": "code",
   "execution_count": 5,
   "metadata": {},
   "outputs": [
    {
     "name": "stdout",
     "output_type": "stream",
     "text": [
      "   userid                   venueid  count\n",
      "0       1  3fd66200f964a52048e81ee3      1\n",
      "1       1  49d2b43ef964a520cb5b1fe3      7\n",
      "2       2  42829c80f964a52025221fe3      1\n",
      "3       2  49c64908f964a52030571fe3      1\n",
      "4       2  4a1c91b1f964a520527b1fe3      1\n"
     ]
    }
   ],
   "source": [
    "user_venue_group = pd.DataFrame({'count' : category_rows.groupby(['userid','venueid']).size()}).reset_index()\n",
    "print(user_venue_group.head())"
   ]
  },
  {
   "cell_type": "code",
   "execution_count": 6,
   "metadata": {},
   "outputs": [
    {
     "name": "stdout",
     "output_type": "stream",
     "text": [
      "                    venueid  count\n",
      "0  3fd66200f964a52048e81ee3     13\n",
      "1  3fd66200f964a52052e61ee3      5\n",
      "2  3fd66200f964a52059e61ee3      8\n",
      "3  3fd66200f964a5205dee1ee3      2\n",
      "4  3fd66200f964a52089e41ee3      6\n"
     ]
    }
   ],
   "source": [
    "venue_checkins = pd.DataFrame({'count' : category_rows.groupby(['venueid']).size()}).reset_index()\n",
    "print(venue_checkins.head())"
   ]
  },
  {
   "cell_type": "code",
   "execution_count": 15,
   "metadata": {},
   "outputs": [
    {
     "name": "stdout",
     "output_type": "stream",
     "text": [
      "{1}\n"
     ]
    }
   ],
   "source": [
    "s = set()\n",
    "s.add(1)\n",
    "print(s)"
   ]
  },
  {
   "cell_type": "code",
   "execution_count": 49,
   "metadata": {},
   "outputs": [],
   "source": [
    "venue_user = dict()\n",
    "for row in user_venue_group.iterrows():\n",
    "    if row[1].venueid in venue_user:\n",
    "        s = set()\n",
    "        s = venue_user[row[1].venueid]\n",
    "        s.add(row[1].userid)\n",
    "        venue_user[row[1].venueid] = s\n",
    "    else:\n",
    "        s = set()\n",
    "        s.add(row[1].userid)\n",
    "        venue_user[row[1].venueid] = s"
   ]
  },
  {
   "cell_type": "code",
   "execution_count": 54,
   "metadata": {
    "scrolled": true
   },
   "outputs": [
    {
     "data": {
      "text/plain": [
       "{'3fd66200f964a52048e81ee3': {1,\n",
       "  66,\n",
       "  68,\n",
       "  350,\n",
       "  388,\n",
       "  397,\n",
       "  578,\n",
       "  732,\n",
       "  929,\n",
       "  953,\n",
       "  1031,\n",
       "  1039},\n",
       " '49d2b43ef964a520cb5b1fe3': {1, 372, 778, 944, 1059}}"
      ]
     },
     "execution_count": 54,
     "metadata": {},
     "output_type": "execute_result"
    }
   ],
   "source": [
    "dict(list(venue_user.items())[0:2])"
   ]
  },
  {
   "cell_type": "code",
   "execution_count": null,
   "metadata": {},
   "outputs": [],
   "source": []
  }
 ],
 "metadata": {
  "kernelspec": {
   "display_name": "Python 3",
   "language": "python",
   "name": "python3"
  },
  "language_info": {
   "codemirror_mode": {
    "name": "ipython",
    "version": 3
   },
   "file_extension": ".py",
   "mimetype": "text/x-python",
   "name": "python",
   "nbconvert_exporter": "python",
   "pygments_lexer": "ipython3",
   "version": "3.6.4"
  }
 },
 "nbformat": 4,
 "nbformat_minor": 2
}
