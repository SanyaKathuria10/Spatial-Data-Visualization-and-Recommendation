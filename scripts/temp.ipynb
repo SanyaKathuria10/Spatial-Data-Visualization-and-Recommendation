{
 "cells": [
  {
   "cell_type": "code",
   "execution_count": 32,
   "metadata": {},
   "outputs": [],
   "source": [
    "from surprise import Dataset, evaluate\n",
    "from surprise import KNNBasic\n",
    "from surprise import SVD\n",
    "import pandas as pd\n",
    "from surprise import accuracy\n",
    "from surprise import NormalPredictor\n",
    "from surprise import Dataset\n",
    "from surprise import Reader\n",
    "from surprise.model_selection import cross_validate\n",
    "from surprise.model_selection import KFold"
   ]
  },
  {
   "cell_type": "code",
   "execution_count": 33,
   "metadata": {},
   "outputs": [],
   "source": [
    "import random\n",
    "ratings = []\n",
    "for x in range(227428):\n",
    "    ratings.append(random.randint(0,1))"
   ]
  },
  {
   "cell_type": "code",
   "execution_count": 34,
   "metadata": {},
   "outputs": [],
   "source": [
    "df = pd.read_csv(\"../data/data-ny.csv\", sep = ',', header=None, names =  ['userid', 'venueid', 'venuecatid', 'venuecatname','latitude','longitude','timezone','utctime'])"
   ]
  },
  {
   "cell_type": "code",
   "execution_count": 62,
   "metadata": {},
   "outputs": [],
   "source": [
    "users = pd.DataFrame({'count' : df.groupby(['userid']).size()}).reset_index()\n",
    "users = users['userid']"
   ]
  },
  {
   "cell_type": "code",
   "execution_count": 63,
   "metadata": {},
   "outputs": [],
   "source": [
    "venues = pd.DataFrame({'count' : df.groupby(['venueid']).size()}).reset_index()\n",
    "venues = venues['venueid']"
   ]
  },
  {
   "cell_type": "code",
   "execution_count": 70,
   "metadata": {},
   "outputs": [],
   "source": [
    "import itertools\n",
    "user_venuae = list(itertools.product(users, venues))"
   ]
  },
  {
   "cell_type": "code",
   "execution_count": 72,
   "metadata": {},
   "outputs": [
    {
     "data": {
      "text/plain": [
       "41514639"
      ]
     },
     "execution_count": 72,
     "metadata": {},
     "output_type": "execute_result"
    }
   ],
   "source": [
    "len(user_venuae)"
   ]
  },
  {
   "cell_type": "code",
   "execution_count": null,
   "metadata": {},
   "outputs": [],
   "source": []
  },
  {
   "cell_type": "code",
   "execution_count": null,
   "metadata": {},
   "outputs": [],
   "source": []
  },
  {
   "cell_type": "code",
   "execution_count": 69,
   "metadata": {},
   "outputs": [
    {
     "data": {
      "text/html": [
       "<div>\n",
       "<style scoped>\n",
       "    .dataframe tbody tr th:only-of-type {\n",
       "        vertical-align: middle;\n",
       "    }\n",
       "\n",
       "    .dataframe tbody tr th {\n",
       "        vertical-align: top;\n",
       "    }\n",
       "\n",
       "    .dataframe thead th {\n",
       "        text-align: right;\n",
       "    }\n",
       "</style>\n",
       "<table border=\"1\" class=\"dataframe\">\n",
       "  <thead>\n",
       "    <tr style=\"text-align: right;\">\n",
       "      <th></th>\n",
       "      <th>userid</th>\n",
       "      <th>venueid</th>\n",
       "      <th>venuecatid</th>\n",
       "      <th>venuecatname</th>\n",
       "      <th>latitude</th>\n",
       "      <th>longitude</th>\n",
       "      <th>timezone</th>\n",
       "      <th>utctime</th>\n",
       "      <th>ratings</th>\n",
       "    </tr>\n",
       "  </thead>\n",
       "  <tbody>\n",
       "    <tr>\n",
       "      <th>0</th>\n",
       "      <td>470</td>\n",
       "      <td>49bbd6c0f964a520f4531fe3</td>\n",
       "      <td>4bf58dd8d48988d127951735</td>\n",
       "      <td>Arts &amp; Crafts Store</td>\n",
       "      <td>40.719810</td>\n",
       "      <td>-74.002581</td>\n",
       "      <td>-240</td>\n",
       "      <td>Tue Apr 03 18:00:09 +0000 2012</td>\n",
       "      <td>1</td>\n",
       "    </tr>\n",
       "    <tr>\n",
       "      <th>1</th>\n",
       "      <td>979</td>\n",
       "      <td>4a43c0aef964a520c6a61fe3</td>\n",
       "      <td>4bf58dd8d48988d1df941735</td>\n",
       "      <td>Bridge</td>\n",
       "      <td>40.606800</td>\n",
       "      <td>-74.044170</td>\n",
       "      <td>-240</td>\n",
       "      <td>Tue Apr 03 18:00:25 +0000 2012</td>\n",
       "      <td>0</td>\n",
       "    </tr>\n",
       "    <tr>\n",
       "      <th>2</th>\n",
       "      <td>69</td>\n",
       "      <td>4c5cc7b485a1e21e00d35711</td>\n",
       "      <td>4bf58dd8d48988d103941735</td>\n",
       "      <td>Home (private)</td>\n",
       "      <td>40.716162</td>\n",
       "      <td>-73.883070</td>\n",
       "      <td>-240</td>\n",
       "      <td>Tue Apr 03 18:02:24 +0000 2012</td>\n",
       "      <td>0</td>\n",
       "    </tr>\n",
       "    <tr>\n",
       "      <th>3</th>\n",
       "      <td>395</td>\n",
       "      <td>4bc7086715a7ef3bef9878da</td>\n",
       "      <td>4bf58dd8d48988d104941735</td>\n",
       "      <td>Medical Center</td>\n",
       "      <td>40.745164</td>\n",
       "      <td>-73.982519</td>\n",
       "      <td>-240</td>\n",
       "      <td>Tue Apr 03 18:02:41 +0000 2012</td>\n",
       "      <td>0</td>\n",
       "    </tr>\n",
       "    <tr>\n",
       "      <th>4</th>\n",
       "      <td>87</td>\n",
       "      <td>4cf2c5321d18a143951b5cec</td>\n",
       "      <td>4bf58dd8d48988d1cb941735</td>\n",
       "      <td>Food Truck</td>\n",
       "      <td>40.740104</td>\n",
       "      <td>-73.989658</td>\n",
       "      <td>-240</td>\n",
       "      <td>Tue Apr 03 18:03:00 +0000 2012</td>\n",
       "      <td>1</td>\n",
       "    </tr>\n",
       "  </tbody>\n",
       "</table>\n",
       "</div>"
      ],
      "text/plain": [
       "   userid                   venueid                venuecatid  \\\n",
       "0     470  49bbd6c0f964a520f4531fe3  4bf58dd8d48988d127951735   \n",
       "1     979  4a43c0aef964a520c6a61fe3  4bf58dd8d48988d1df941735   \n",
       "2      69  4c5cc7b485a1e21e00d35711  4bf58dd8d48988d103941735   \n",
       "3     395  4bc7086715a7ef3bef9878da  4bf58dd8d48988d104941735   \n",
       "4      87  4cf2c5321d18a143951b5cec  4bf58dd8d48988d1cb941735   \n",
       "\n",
       "          venuecatname   latitude  longitude  timezone  \\\n",
       "0  Arts & Crafts Store  40.719810 -74.002581      -240   \n",
       "1               Bridge  40.606800 -74.044170      -240   \n",
       "2       Home (private)  40.716162 -73.883070      -240   \n",
       "3       Medical Center  40.745164 -73.982519      -240   \n",
       "4           Food Truck  40.740104 -73.989658      -240   \n",
       "\n",
       "                          utctime  ratings  \n",
       "0  Tue Apr 03 18:00:09 +0000 2012        1  \n",
       "1  Tue Apr 03 18:00:25 +0000 2012        0  \n",
       "2  Tue Apr 03 18:02:24 +0000 2012        0  \n",
       "3  Tue Apr 03 18:02:41 +0000 2012        0  \n",
       "4  Tue Apr 03 18:03:00 +0000 2012        1  "
      ]
     },
     "execution_count": 69,
     "metadata": {},
     "output_type": "execute_result"
    }
   ],
   "source": [
    "df['ratings'] = ratings\n",
    "df.head()"
   ]
  },
  {
   "cell_type": "code",
   "execution_count": 37,
   "metadata": {},
   "outputs": [],
   "source": [
    "data = pd.DataFrame()\n",
    "data['userid'] = df['userid']\n",
    "data['venueid'] = df['venueid']\n",
    "data['ratings'] = df['ratings']"
   ]
  },
  {
   "cell_type": "code",
   "execution_count": 38,
   "metadata": {},
   "outputs": [],
   "source": [
    "reader = Reader(rating_scale=(1, 5))\n",
    "train_data = Dataset.load_from_df(df[['userid', 'venueid', 'ratings']], reader)"
   ]
  },
  {
   "cell_type": "code",
   "execution_count": 43,
   "metadata": {},
   "outputs": [],
   "source": [
    "sim_options = {\n",
    "    'name': 'cosine',\n",
    "    'user_based': False\n",
    "}\n",
    "knn = KNNBasic(sim_options=sim_options)\n",
    "#algo = SVD()\n",
    "kf = KFold(n_splits=2)\n"
   ]
  },
  {
   "cell_type": "code",
   "execution_count": 49,
   "metadata": {},
   "outputs": [
    {
     "name": "stdout",
     "output_type": "stream",
     "text": [
      "Computing the cosine similarity matrix...\n"
     ]
    },
    {
     "name": "stderr",
     "output_type": "stream",
     "text": [
      "/Library/Frameworks/Python.framework/Versions/3.6/lib/python3.6/site-packages/surprise/prediction_algorithms/algo_base.py:277: RuntimeWarning: invalid value encountered in double_scalars\n",
      "  sim = construction_func[name](*args)\n"
     ]
    },
    {
     "name": "stdout",
     "output_type": "stream",
     "text": [
      "Done computing similarity matrix.\n",
      "[Prediction(uid=192, iid='4a6a4a50f964a5200bcd1fe3', r_ui=1.0, est=1, details={'actual_k': 2, 'was_impossible': False}), Prediction(uid=402, iid='42829c80f964a5206a221fe3', r_ui=1.0, est=1, details={'actual_k': 39, 'was_impossible': False}), Prediction(uid=59, iid='4f90581ae4b027bf9d4c190b', r_ui=1.0, est=1, details={'actual_k': 33, 'was_impossible': False}), Prediction(uid=195, iid='3fd66200f964a520f6e61ee3', r_ui=0.0, est=1, details={'actual_k': 6, 'was_impossible': False}), Prediction(uid=540, iid='4ef298b729c2e7e6d2b037db', r_ui=0.0, est=1, details={'actual_k': 37, 'was_impossible': False}), Prediction(uid=471, iid='4c13d7d482a3c9b68536fcf8', r_ui=1.0, est=1, details={'actual_k': 34, 'was_impossible': False}), Prediction(uid=388, iid='436e9900f964a520dd291fe3', r_ui=1.0, est=1, details={'was_impossible': True, 'reason': 'Not enough neighbors.'}), Prediction(uid=1029, iid='4ce86f18f1c6236afae35ff0', r_ui=0.0, est=1, details={'actual_k': 35, 'was_impossible': False}), Prediction(uid=575, iid='4b1c57a7f964a520590624e3', r_ui=0.0, est=1, details={'was_impossible': True, 'reason': 'Not enough neighbors.'}), Prediction(uid=360, iid='4a0799a0f964a52089731fe3', r_ui=0.0, est=1, details={'was_impossible': True, 'reason': 'User and/or item is unkown.'}), Prediction(uid=1004, iid='4a43a242f964a5209da61fe3', r_ui=0.0, est=1, details={'was_impossible': True, 'reason': 'Not enough neighbors.'}), Prediction(uid=322, iid='4d0a34dcddb8f04d586532aa', r_ui=1.0, est=1, details={'was_impossible': True, 'reason': 'User and/or item is unkown.'}), Prediction(uid=190, iid='4bb6226446d4a593ccbcc5c0', r_ui=0.0, est=1, details={'actual_k': 31, 'was_impossible': False}), Prediction(uid=192, iid='4531059cf964a520683b1fe3', r_ui=0.0, est=1, details={'actual_k': 9, 'was_impossible': False}), Prediction(uid=646, iid='4396cca9f964a520952b1fe3', r_ui=1.0, est=1, details={'was_impossible': True, 'reason': 'Not enough neighbors.'}), Prediction(uid=931, iid='4adf57adf964a520a27921e3', r_ui=1.0, est=1, details={'was_impossible': True, 'reason': 'User and/or item is unkown.'}), Prediction(uid=663, iid='40afe980f964a5203bf31ee3', r_ui=1.0, est=1, details={'actual_k': 12, 'was_impossible': False}), Prediction(uid=734, iid='4df53b7bd4c01ff6b2f262ec', r_ui=1.0, est=1, details={'actual_k': 35, 'was_impossible': False}), Prediction(uid=436, iid='4bc7afbc14d7952160ee67e9', r_ui=0.0, est=1, details={'actual_k': 27, 'was_impossible': False}), Prediction(uid=726, iid='4a7d3025f964a5208eee1fe3', r_ui=1.0, est=1, details={'was_impossible': True, 'reason': 'Not enough neighbors.'}), Prediction(uid=670, iid='506a39f4e4b088a4de96392d', r_ui=0.0, est=1, details={'actual_k': 36, 'was_impossible': False}), Prediction(uid=719, iid='4b39f942f964a520e95f25e3', r_ui=0.0, est=1, details={'actual_k': 31, 'was_impossible': False}), Prediction(uid=988, iid='4a497420f964a5205cab1fe3', r_ui=0.0, est=1, details={'actual_k': 20, 'was_impossible': False}), Prediction(uid=481, iid='4dfa70232271faf21fef862e', r_ui=1.0, est=1, details={'actual_k': 32, 'was_impossible': False}), Prediction(uid=185, iid='4bd7282e5631c9b6e315a730', r_ui=0.0, est=1, details={'actual_k': 39, 'was_impossible': False}), Prediction(uid=608, iid='4a46542ff964a520afa81fe3', r_ui=0.0, est=1, details={'actual_k': 30, 'was_impossible': False}), Prediction(uid=445, iid='4e80010cf9f4c8c37f4c9ae7', r_ui=1.0, est=1, details={'actual_k': 38, 'was_impossible': False}), Prediction(uid=113, iid='42911d00f964a520f5231fe3', r_ui=0.0, est=1, details={'actual_k': 32, 'was_impossible': False}), Prediction(uid=440, iid='4b14699bf964a520c7a223e3', r_ui=0.0, est=1, details={'actual_k': 36, 'was_impossible': False}), Prediction(uid=771, iid='4b696ecdf964a5201fa22be3', r_ui=0.0, est=1, details={'actual_k': 28, 'was_impossible': False}), Prediction(uid=889, iid='4c79b79381bca093e689fe14', r_ui=1.0, est=1, details={'actual_k': 37, 'was_impossible': False}), Prediction(uid=484, iid='4b54d362f964a52058ce27e3', r_ui=1.0, est=1, details={'actual_k': 36, 'was_impossible': False}), Prediction(uid=33, iid='4c8afc6a770fb60c222ad8c3', r_ui=1.0, est=1, details={'actual_k': 28, 'was_impossible': False}), Prediction(uid=712, iid='4af4a7a4f964a520b8f421e3', r_ui=0.0, est=1, details={'actual_k': 1, 'was_impossible': False}), Prediction(uid=305, iid='4dd6cf007d8b322663e064c7', r_ui=1.0, est=1, details={'actual_k': 35, 'was_impossible': False}), Prediction(uid=12, iid='4ba3bc00f964a520a85938e3', r_ui=1.0, est=1, details={'actual_k': 30, 'was_impossible': False}), Prediction(uid=58, iid='4ac13d5ff964a5205b9620e3', r_ui=0.0, est=1, details={'actual_k': 25, 'was_impossible': False}), Prediction(uid=773, iid='4c62bfd0e1621b8dfe232453', r_ui=1.0, est=1, details={'actual_k': 31, 'was_impossible': False}), Prediction(uid=658, iid='4ccd23b0ba79a1cd9fdf3fcb', r_ui=0.0, est=1, details={'was_impossible': True, 'reason': 'User and/or item is unkown.'}), Prediction(uid=606, iid='4c23ab9ab7b8a5936e3b3be8', r_ui=1.0, est=1, details={'actual_k': 30, 'was_impossible': False}), Prediction(uid=275, iid='4ed66331e5faf148a7a0a971', r_ui=1.0, est=1, details={'actual_k': 34, 'was_impossible': False}), Prediction(uid=1071, iid='4e9866a782310543d2680302', r_ui=1.0, est=1, details={'was_impossible': True, 'reason': 'User and/or item is unkown.'}), Prediction(uid=842, iid='4a494ce4f964a5202cab1fe3', r_ui=1.0, est=1, details={'actual_k': 29, 'was_impossible': False}), Prediction(uid=827, iid='4d16782be190721e65dc1421', r_ui=1.0, est=1, details={'was_impossible': True, 'reason': 'Not enough neighbors.'}), Prediction(uid=349, iid='4a7dff4df964a52091f01fe3', r_ui=0.0, est=1, details={'actual_k': 1, 'was_impossible': False}), Prediction(uid=991, iid='4c3fc6ee520fa5939130c7ac', r_ui=0.0, est=1, details={'was_impossible': True, 'reason': 'User and/or item is unkown.'}), Prediction(uid=885, iid='4c917220ae96a0933fcda346', r_ui=1.0, est=1, details={'actual_k': 36, 'was_impossible': False}), Prediction(uid=293, iid='4b96b24ff964a52094de34e3', r_ui=1.0, est=1, details={'actual_k': 39, 'was_impossible': False}), Prediction(uid=224, iid='4f35509ae4b0d361ec0f026d', r_ui=0.0, est=1, details={'was_impossible': True, 'reason': 'User and/or item is unkown.'}), Prediction(uid=999, iid='4a4a5bdbf964a520b4ab1fe3', r_ui=0.0, est=1, details={'was_impossible': True, 'reason': 'Not enough neighbors.'}), Prediction(uid=6, iid='50e8ed15e4b07ff4593e1bf4', r_ui=1.0, est=1, details={'was_impossible': True, 'reason': 'User and/or item is unkown.'}), Prediction(uid=994, iid='4ed577f930f803fae847e4b0', r_ui=1.0, est=1, details={'actual_k': 4, 'was_impossible': False}), Prediction(uid=754, iid='4ab95ceaf964a520177f20e3', r_ui=0.0, est=1, details={'actual_k': 40, 'was_impossible': False}), Prediction(uid=318, iid='4f80e3ece4b0b2237c9708dd', r_ui=0.0, est=1, details={'actual_k': 1, 'was_impossible': False}), Prediction(uid=590, iid='4b7d6f3df964a52009be2fe3', r_ui=0.0, est=1, details={'actual_k': 31, 'was_impossible': False}), Prediction(uid=990, iid='4bc19d1e920eb71359fe1a2c', r_ui=1.0, est=1, details={'actual_k': 39, 'was_impossible': False}), Prediction(uid=764, iid='4a802155f964a520a9f41fe3', r_ui=0.0, est=1, details={'was_impossible': True, 'reason': 'Not enough neighbors.'}), Prediction(uid=445, iid='4b4caf4bf964a52035ba26e3', r_ui=1.0, est=1, details={'actual_k': 38, 'was_impossible': False}), Prediction(uid=901, iid='4e7418b6d22d80eb329b0a10', r_ui=0.0, est=1, details={'actual_k': 1, 'was_impossible': False}), Prediction(uid=9, iid='4dcad4f21f6e28126780bca8', r_ui=0.0, est=1, details={'actual_k': 1, 'was_impossible': False}), Prediction(uid=982, iid='4b60799ef964a52037e829e3', r_ui=1.0, est=1, details={'was_impossible': True, 'reason': 'Not enough neighbors.'}), Prediction(uid=283, iid='4df6cab0aeb7da11e1a72c4c', r_ui=1.0, est=1, details={'actual_k': 2, 'was_impossible': False}), Prediction(uid=84, iid='4a3c6a36f964a52081a11fe3', r_ui=1.0, est=1, details={'actual_k': 29, 'was_impossible': False}), Prediction(uid=614, iid='4e5e96dbd4c08cf7f58fe276', r_ui=0.0, est=1, details={'actual_k': 1, 'was_impossible': False}), Prediction(uid=641, iid='4bec86b6fd60a5935b273bf1', r_ui=0.0, est=1, details={'actual_k': 33, 'was_impossible': False}), Prediction(uid=119, iid='49cbb6f9f964a5200f591fe3', r_ui=0.0, est=1, details={'actual_k': 31, 'was_impossible': False}), Prediction(uid=35, iid='4e59ca2faeb7d78d9f7cda81', r_ui=0.0, est=1, details={'actual_k': 37, 'was_impossible': False}), Prediction(uid=571, iid='4b08998bf964a520320f23e3', r_ui=1.0, est=1, details={'actual_k': 30, 'was_impossible': False}), Prediction(uid=84, iid='4ed7c726f5b915cfe2a874f5', r_ui=0.0, est=1, details={'actual_k': 29, 'was_impossible': False}), Prediction(uid=371, iid='4b5bad97f964a520800f29e3', r_ui=0.0, est=1, details={'actual_k': 37, 'was_impossible': False}), Prediction(uid=217, iid='4f6dbecae4b056aa92ed8e01', r_ui=0.0, est=1, details={'actual_k': 38, 'was_impossible': False}), Prediction(uid=897, iid='4b9c43bdf964a5202e5a36e3', r_ui=0.0, est=1, details={'was_impossible': True, 'reason': 'User and/or item is unkown.'}), Prediction(uid=254, iid='4aee747df964a520dcd321e3', r_ui=1.0, est=1, details={'actual_k': 33, 'was_impossible': False}), Prediction(uid=843, iid='49f52737f964a520a06b1fe3', r_ui=1.0, est=1, details={'was_impossible': True, 'reason': 'Not enough neighbors.'}), Prediction(uid=804, iid='4d3882bb9516236ac4f89651', r_ui=0.0, est=1, details={'was_impossible': True, 'reason': 'User and/or item is unkown.'}), Prediction(uid=147, iid='4ad494d5f964a5203ce820e3', r_ui=0.0, est=1, details={'actual_k': 7, 'was_impossible': False}), Prediction(uid=371, iid='4f7147c2e4b005ed80fa2d4f', r_ui=1.0, est=1, details={'actual_k': 37, 'was_impossible': False}), Prediction(uid=789, iid='42d84e00f964a5202a261fe3', r_ui=0.0, est=1, details={'actual_k': 30, 'was_impossible': False}), Prediction(uid=384, iid='4ce2a056ffcf3704bed62c82', r_ui=0.0, est=1, details={'actual_k': 35, 'was_impossible': False}), Prediction(uid=1011, iid='4ad35d08f964a520fae320e3', r_ui=0.0, est=1, details={'actual_k': 39, 'was_impossible': False}), Prediction(uid=571, iid='4e0c71ecae60909ff14a650c', r_ui=0.0, est=1, details={'actual_k': 30, 'was_impossible': False}), Prediction(uid=762, iid='4e0a03a5fa767637fd3c47f1', r_ui=0.0, est=1, details={'actual_k': 27, 'was_impossible': False}), Prediction(uid=467, iid='4b5b389ff964a5203fec28e3', r_ui=1.0, est=1, details={'actual_k': 5, 'was_impossible': False}), Prediction(uid=754, iid='4b969536f964a52070d634e3', r_ui=0.0, est=1, details={'actual_k': 40, 'was_impossible': False}), Prediction(uid=888, iid='4c1f9bfc8b3aa593c6b99d5f', r_ui=1.0, est=1, details={'was_impossible': True, 'reason': 'User and/or item is unkown.'}), Prediction(uid=687, iid='4d9ba0ec2e6d8cfa130f2b17', r_ui=0.0, est=1, details={'actual_k': 30, 'was_impossible': False}), Prediction(uid=736, iid='45b893e3f964a520cf411fe3', r_ui=0.0, est=1, details={'actual_k': 15, 'was_impossible': False}), Prediction(uid=440, iid='4ab41590f964a520c46f20e3', r_ui=1.0, est=1, details={'actual_k': 36, 'was_impossible': False}), Prediction(uid=91, iid='4f0a0bcae4b07c8f8dc6bbef', r_ui=1.0, est=1, details={'actual_k': 34, 'was_impossible': False}), Prediction(uid=644, iid='4ea996fb0aaff9d3d58f947b', r_ui=1.0, est=1, details={'actual_k': 26, 'was_impossible': False}), Prediction(uid=509, iid='4fb531bce4b0f745c7e53226', r_ui=1.0, est=1, details={'was_impossible': True, 'reason': 'User and/or item is unkown.'}), Prediction(uid=709, iid='478e84a2f964a520484d1fe3', r_ui=0.0, est=1, details={'was_impossible': True, 'reason': 'Not enough neighbors.'}), Prediction(uid=267, iid='4f13f52f6d863f284d122a32', r_ui=1.0, est=1, details={'was_impossible': True, 'reason': 'Not enough neighbors.'}), Prediction(uid=365, iid='4a58b908f964a520b7b71fe3', r_ui=0.0, est=1, details={'actual_k': 29, 'was_impossible': False}), Prediction(uid=781, iid='4c98aeeed799a1cddc24b452', r_ui=0.0, est=1, details={'actual_k': 28, 'was_impossible': False}), Prediction(uid=306, iid='4b823133f964a520d1cc30e3', r_ui=1.0, est=1, details={'was_impossible': True, 'reason': 'Not enough neighbors.'}), Prediction(uid=693, iid='4a8616a7f964a520600020e3', r_ui=1.0, est=1, details={'was_impossible': True, 'reason': 'Not enough neighbors.'}), Prediction(uid=818, iid='4fce22c3e4b0c9b3217996b7', r_ui=1.0, est=1, details={'actual_k': 34, 'was_impossible': False}), Prediction(uid=440, iid='4ad77a2bf964a520280b21e3', r_ui=0.0, est=1, details={'actual_k': 37, 'was_impossible': False}), Prediction(uid=95, iid='4b3bef0df964a520bb7e25e3', r_ui=1.0, est=1, details={'actual_k': 36, 'was_impossible': False})]\n",
      "RMSE: 0.7067\n"
     ]
    },
    {
     "name": "stdout",
     "output_type": "stream",
     "text": [
      "Computing the cosine similarity matrix...\n",
      "Done computing similarity matrix.\n",
      "[Prediction(uid=22, iid='4abb79b8f964a520cc8320e3', r_ui=1.0, est=1, details={'actual_k': 4, 'was_impossible': False}), Prediction(uid=20, iid='42c9cd80f964a520df251fe3', r_ui=1.0, est=1, details={'actual_k': 24, 'was_impossible': False}), Prediction(uid=344, iid='4bc5b04b41cb76b0a1a03e6f', r_ui=1.0, est=1, details={'actual_k': 36, 'was_impossible': False}), Prediction(uid=777, iid='4c2271ee9085d13a1c5886cc', r_ui=1.0, est=1, details={'actual_k': 32, 'was_impossible': False}), Prediction(uid=448, iid='49eceb82f964a520ad671fe3', r_ui=1.0, est=1, details={'was_impossible': True, 'reason': 'User and/or item is unkown.'}), Prediction(uid=70, iid='4b8075bef964a520697430e3', r_ui=1.0, est=1, details={'was_impossible': True, 'reason': 'Not enough neighbors.'}), Prediction(uid=534, iid='4ef377dc6da1a067a58d5a78', r_ui=0.0, est=1, details={'was_impossible': True, 'reason': 'User and/or item is unkown.'}), Prediction(uid=752, iid='4b55ec3bf964a520aaf627e3', r_ui=1.0, est=1, details={'actual_k': 35, 'was_impossible': False}), Prediction(uid=259, iid='4ab9520bf964a520ef7e20e3', r_ui=1.0, est=1, details={'actual_k': 34, 'was_impossible': False}), Prediction(uid=116, iid='4ea33bdcb6347b996825dbca', r_ui=0.0, est=1, details={'actual_k': 34, 'was_impossible': False}), Prediction(uid=440, iid='4c5c932e7f661b8d31fe481c', r_ui=0.0, est=1, details={'actual_k': 39, 'was_impossible': False}), Prediction(uid=83, iid='4eeba9da7ee5e85b3edfb44f', r_ui=0.0, est=1, details={'was_impossible': True, 'reason': 'User and/or item is unkown.'}), Prediction(uid=99, iid='4b7990d3f964a520d8012fe3', r_ui=1.0, est=1, details={'actual_k': 32, 'was_impossible': False}), Prediction(uid=250, iid='42893400f964a52052231fe3', r_ui=1.0, est=1, details={'actual_k': 34, 'was_impossible': False}), Prediction(uid=758, iid='4d0f7ace7177b1f7c3a14b22', r_ui=1.0, est=1, details={'was_impossible': True, 'reason': 'User and/or item is unkown.'}), Prediction(uid=773, iid='4c62dc1e69a1c9b6e6a939a4', r_ui=1.0, est=1, details={'was_impossible': True, 'reason': 'User and/or item is unkown.'}), Prediction(uid=1023, iid='4fba81e5e4b08bf7c71b374f', r_ui=1.0, est=1, details={'actual_k': 31, 'was_impossible': False}), Prediction(uid=511, iid='4bdc9fb73904a59345084f9e', r_ui=1.0, est=1, details={'actual_k': 37, 'was_impossible': False}), Prediction(uid=432, iid='4b2c7911f964a52044c724e3', r_ui=1.0, est=1, details={'actual_k': 3, 'was_impossible': False}), Prediction(uid=250, iid='4a81a364f964a5201bf71fe3', r_ui=0.0, est=1, details={'actual_k': 35, 'was_impossible': False}), Prediction(uid=349, iid='4c5049b8f080a5932e9143e2', r_ui=0.0, est=1, details={'actual_k': 31, 'was_impossible': False}), Prediction(uid=458, iid='4b367d28f964a520963625e3', r_ui=0.0, est=1, details={'actual_k': 34, 'was_impossible': False}), Prediction(uid=56, iid='4a35477cf964a520b79c1fe3', r_ui=0.0, est=1, details={'actual_k': 30, 'was_impossible': False}), Prediction(uid=151, iid='4c13d7d482a3c9b68536fcf8', r_ui=0.0, est=1, details={'actual_k': 17, 'was_impossible': False}), Prediction(uid=570, iid='4530db29f964a520613b1fe3', r_ui=0.0, est=1, details={'actual_k': 7, 'was_impossible': False}), Prediction(uid=266, iid='40c3b000f964a520e8001fe3', r_ui=1.0, est=1, details={'actual_k': 5, 'was_impossible': False}), Prediction(uid=64, iid='4a82ef0af964a52092f91fe3', r_ui=0.0, est=1, details={'was_impossible': True, 'reason': 'Not enough neighbors.'}), Prediction(uid=1006, iid='4dd53375ae60a78cec67b104', r_ui=1.0, est=1, details={'actual_k': 38, 'was_impossible': False}), Prediction(uid=349, iid='4fdb31fbe4b09756c153c42f', r_ui=0.0, est=1, details={'actual_k': 31, 'was_impossible': False}), Prediction(uid=804, iid='49b1f97af964a520dd521fe3', r_ui=1.0, est=1, details={'actual_k': 1, 'was_impossible': False}), Prediction(uid=673, iid='4c7e76bc9221236a772b823d', r_ui=0.0, est=1, details={'actual_k': 32, 'was_impossible': False}), Prediction(uid=676, iid='4effc0b7e5faf2869bbc869a', r_ui=0.0, est=1, details={'was_impossible': True, 'reason': 'User and/or item is unkown.'}), Prediction(uid=280, iid='4ae9913ff964a52020b521e3', r_ui=0.0, est=1, details={'actual_k': 30, 'was_impossible': False}), Prediction(uid=566, iid='4b58c03df964a5201d6928e3', r_ui=0.0, est=1, details={'actual_k': 34, 'was_impossible': False}), Prediction(uid=403, iid='4ab6c985f964a5200a7920e3', r_ui=1.0, est=1, details={'was_impossible': True, 'reason': 'Not enough neighbors.'}), Prediction(uid=702, iid='4ea5a1bcf7909c68df719911', r_ui=0.0, est=1, details={'actual_k': 33, 'was_impossible': False}), Prediction(uid=706, iid='4d9e705afb79a1438ae78f4d', r_ui=1.0, est=1, details={'was_impossible': True, 'reason': 'User and/or item is unkown.'}), Prediction(uid=742, iid='4ad8add6f964a520a61321e3', r_ui=0.0, est=1, details={'actual_k': 36, 'was_impossible': False}), Prediction(uid=894, iid='43fa07c9f964a520d92f1fe3', r_ui=1.0, est=1, details={'actual_k': 8, 'was_impossible': False}), Prediction(uid=343, iid='4a9efc7af964a520103c20e3', r_ui=0.0, est=1, details={'actual_k': 29, 'was_impossible': False}), Prediction(uid=249, iid='4dd5b29781dcd5bca59494d9', r_ui=0.0, est=1, details={'actual_k': 1, 'was_impossible': False}), Prediction(uid=260, iid='4ac290a3f964a520c29920e3', r_ui=1.0, est=1, details={'actual_k': 5, 'was_impossible': False}), Prediction(uid=939, iid='4f044f5993ad64af7ace411b', r_ui=1.0, est=1, details={'actual_k': 30, 'was_impossible': False}), Prediction(uid=229, iid='4c60a7cede6920a15f9d9664', r_ui=1.0, est=1, details={'was_impossible': True, 'reason': 'Not enough neighbors.'}), Prediction(uid=687, iid='4dd98cfad1647fcf3e7e8373', r_ui=0.0, est=1, details={'actual_k': 10, 'was_impossible': False}), Prediction(uid=901, iid='4ebb5a5530f8ec57eeea5fd5', r_ui=0.0, est=1, details={'was_impossible': True, 'reason': 'Not enough neighbors.'}), Prediction(uid=891, iid='4ba8a9a9f964a5206ee539e3', r_ui=1.0, est=1, details={'actual_k': 37, 'was_impossible': False}), Prediction(uid=643, iid='4e3ee3d2c65b4ec275f5f599', r_ui=0.0, est=1, details={'actual_k': 37, 'was_impossible': False}), Prediction(uid=371, iid='4bd345619854d13ae359fd4d', r_ui=1.0, est=1, details={'was_impossible': True, 'reason': 'User and/or item is unkown.'}), Prediction(uid=618, iid='4c17b29b838020a1fd0de361', r_ui=0.0, est=1, details={'actual_k': 5, 'was_impossible': False}), Prediction(uid=138, iid='4bea96e76295c9b6908b8608', r_ui=1.0, est=1, details={'actual_k': 35, 'was_impossible': False}), Prediction(uid=742, iid='42717900f964a5206f211fe3', r_ui=1.0, est=1, details={'actual_k': 2, 'was_impossible': False}), Prediction(uid=83, iid='4b8d2d7ef964a520afeb32e3', r_ui=0.0, est=1, details={'actual_k': 34, 'was_impossible': False}), Prediction(uid=654, iid='4ba02593f964a5209b5d37e3', r_ui=0.0, est=1, details={'actual_k': 1, 'was_impossible': False}), Prediction(uid=663, iid='4baa673bf964a520d8663ae3', r_ui=0.0, est=1, details={'actual_k': 35, 'was_impossible': False}), Prediction(uid=512, iid='3fd66200f964a520ddf01ee3', r_ui=0.0, est=1, details={'actual_k': 21, 'was_impossible': False}), Prediction(uid=70, iid='4d8fb54a6174a0932c9ae4e3', r_ui=1.0, est=1, details={'actual_k': 39, 'was_impossible': False}), Prediction(uid=97, iid='4adc9f3af964a520072e21e3', r_ui=1.0, est=1, details={'actual_k': 22, 'was_impossible': False}), Prediction(uid=113, iid='4c0d8648c700c9b60592a2dd', r_ui=1.0, est=1, details={'was_impossible': True, 'reason': 'User and/or item is unkown.'}), Prediction(uid=421, iid='4b54d9caf964a520aacf27e3', r_ui=0.0, est=1, details={'was_impossible': True, 'reason': 'User and/or item is unkown.'}), Prediction(uid=114, iid='4a899781f964a5207d0820e3', r_ui=1.0, est=1, details={'was_impossible': True, 'reason': 'User and/or item is unkown.'}), Prediction(uid=559, iid='4d378b226eef5481afca3848', r_ui=0.0, est=1, details={'actual_k': 27, 'was_impossible': False}), Prediction(uid=179, iid='4e15e38c8877cd571211f40e', r_ui=0.0, est=1, details={'was_impossible': True, 'reason': 'Not enough neighbors.'}), Prediction(uid=712, iid='4a316f9af964a520cc991fe3', r_ui=0.0, est=1, details={'actual_k': 4, 'was_impossible': False}), Prediction(uid=136, iid='4ada106af964a520ed1d21e3', r_ui=0.0, est=1, details={'actual_k': 32, 'was_impossible': False}), Prediction(uid=216, iid='4b897be0f964a520bb3a32e3', r_ui=0.0, est=1, details={'actual_k': 28, 'was_impossible': False}), Prediction(uid=535, iid='4efde90c4690f6ece85c514c', r_ui=0.0, est=1, details={'was_impossible': True, 'reason': 'Not enough neighbors.'}), Prediction(uid=185, iid='4e4942777d8b91a065b2cccb', r_ui=0.0, est=1, details={'was_impossible': True, 'reason': 'Not enough neighbors.'}), Prediction(uid=904, iid='3fd66200f964a520cce71ee3', r_ui=1.0, est=1, details={'actual_k': 1, 'was_impossible': False}), Prediction(uid=1072, iid='3fd66200f964a520e2f11ee3', r_ui=1.0, est=1, details={'was_impossible': True, 'reason': 'Not enough neighbors.'}), Prediction(uid=521, iid='4bba1bab7421a5936165c340', r_ui=1.0, est=1, details={'actual_k': 35, 'was_impossible': False}), Prediction(uid=396, iid='4ac10f70f964a520a49520e3', r_ui=1.0, est=1, details={'actual_k': 36, 'was_impossible': False}), Prediction(uid=615, iid='40abf500f964a52035f31ee3', r_ui=0.0, est=1, details={'actual_k': 35, 'was_impossible': False}), Prediction(uid=677, iid='4dd892fcfa76ad96d1425e3f', r_ui=0.0, est=1, details={'actual_k': 31, 'was_impossible': False}), Prediction(uid=111, iid='4b5744a9f964a520582e28e3', r_ui=1.0, est=1, details={'actual_k': 2, 'was_impossible': False}), Prediction(uid=391, iid='4d5895ca16146a3169b15dc1', r_ui=0.0, est=1, details={'actual_k': 35, 'was_impossible': False}), Prediction(uid=972, iid='4cb746713ac937047970da0a', r_ui=1.0, est=1, details={'actual_k': 30, 'was_impossible': False}), Prediction(uid=354, iid='4b2d93a9f964a5201fd924e3', r_ui=0.0, est=1, details={'actual_k': 2, 'was_impossible': False}), Prediction(uid=539, iid='4c1836421436a593271a8d75', r_ui=1.0, est=1, details={'actual_k': 34, 'was_impossible': False}), Prediction(uid=643, iid='4b072cbcf964a520cdf822e3', r_ui=1.0, est=1, details={'actual_k': 37, 'was_impossible': False}), Prediction(uid=966, iid='49e3a2b3f964a520a6621fe3', r_ui=1.0, est=1, details={'actual_k': 38, 'was_impossible': False}), Prediction(uid=640, iid='4ad04456f964a520c7d720e3', r_ui=0.0, est=1, details={'actual_k': 3, 'was_impossible': False}), Prediction(uid=769, iid='4f032e98e5faf2869ee78334', r_ui=1.0, est=1, details={'was_impossible': True, 'reason': 'User and/or item is unkown.'}), Prediction(uid=749, iid='4c902a876fbf224b1bae518f', r_ui=1.0, est=1, details={'actual_k': 1, 'was_impossible': False}), Prediction(uid=1057, iid='4f3d9498e4b0fbbbd6b25528', r_ui=0.0, est=1, details={'actual_k': 35, 'was_impossible': False}), Prediction(uid=600, iid='4b41a1e9f964a520f8c725e3', r_ui=0.0, est=1, details={'actual_k': 4, 'was_impossible': False}), Prediction(uid=537, iid='4e34496fa8092599edf845bb', r_ui=1.0, est=1, details={'was_impossible': True, 'reason': 'Not enough neighbors.'}), Prediction(uid=164, iid='421a7600f964a5209d1f1fe3', r_ui=0.0, est=1, details={'actual_k': 6, 'was_impossible': False}), Prediction(uid=711, iid='3fd66200f964a5205dea1ee3', r_ui=1.0, est=1, details={'actual_k': 2, 'was_impossible': False}), Prediction(uid=1073, iid='4b940b8ef964a520c76334e3', r_ui=0.0, est=1, details={'actual_k': 1, 'was_impossible': False}), Prediction(uid=765, iid='4e616afe7d8b85408936dc9d', r_ui=0.0, est=1, details={'actual_k': 37, 'was_impossible': False}), Prediction(uid=371, iid='4e703e96a8098087a0057f77', r_ui=0.0, est=1, details={'actual_k': 34, 'was_impossible': False}), Prediction(uid=806, iid='40fb0f00f964a520ee0a1fe3', r_ui=1.0, est=1, details={'actual_k': 18, 'was_impossible': False}), Prediction(uid=281, iid='4bc9de9368f976b0c9ff5d83', r_ui=0.0, est=1, details={'actual_k': 33, 'was_impossible': False}), Prediction(uid=974, iid='4ea37694b6347b99683dcb09', r_ui=0.0, est=1, details={'actual_k': 38, 'was_impossible': False}), Prediction(uid=747, iid='4b6ccd06f964a52061552ce3', r_ui=1.0, est=1, details={'was_impossible': True, 'reason': 'Not enough neighbors.'}), Prediction(uid=235, iid='3fd66200f964a52014eb1ee3', r_ui=1.0, est=1, details={'was_impossible': True, 'reason': 'Not enough neighbors.'}), Prediction(uid=881, iid='4b676520f964a520404c2be3', r_ui=0.0, est=1, details={'actual_k': 33, 'was_impossible': False}), Prediction(uid=185, iid='4c056da7517d0f475b87f415', r_ui=1.0, est=1, details={'actual_k': 40, 'was_impossible': False}), Prediction(uid=804, iid='4e734ad98998f94a582a5f5c', r_ui=0.0, est=1, details={'was_impossible': True, 'reason': 'Not enough neighbors.'})]\n",
      "RMSE: 0.7064\n"
     ]
    }
   ],
   "source": [
    "# #knn.fit(train_data)\n",
    "# model.fit(train_data)\n",
    "\n",
    "for trainset, testset in kf.split(train_data):\n",
    "#     print(trainset)\n",
    "#     print(testset)\n",
    "    # train and test algorithm.\n",
    "    knn.fit(trainset)\n",
    "    predictions = knn.test(testset)\n",
    "    print(predictions[:100])\n",
    "    # Compute and print Root Mean Squared Error\n",
    "    accuracy.rmse(predictions, verbose=True)"
   ]
  },
  {
   "cell_type": "code",
   "execution_count": 50,
   "metadata": {},
   "outputs": [
    {
     "data": {
      "text/plain": [
       "113714"
      ]
     },
     "execution_count": 50,
     "metadata": {},
     "output_type": "execute_result"
    }
   ],
   "source": [
    "len(predictions)"
   ]
  },
  {
   "cell_type": "code",
   "execution_count": 55,
   "metadata": {},
   "outputs": [],
   "source": [
    "for i in predictions:\n",
    "    if i.est == 0:\n",
    "        print(i)"
   ]
  },
  {
   "cell_type": "code",
   "execution_count": null,
   "metadata": {},
   "outputs": [],
   "source": []
  }
 ],
 "metadata": {
  "kernelspec": {
   "display_name": "Python 3",
   "language": "python",
   "name": "python3"
  },
  "language_info": {
   "codemirror_mode": {
    "name": "ipython",
    "version": 3
   },
   "file_extension": ".py",
   "mimetype": "text/x-python",
   "name": "python",
   "nbconvert_exporter": "python",
   "pygments_lexer": "ipython3",
   "version": "3.6.4"
  }
 },
 "nbformat": 4,
 "nbformat_minor": 2
}
