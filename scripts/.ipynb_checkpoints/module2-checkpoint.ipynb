{
 "cells": [
  {
   "cell_type": "code",
   "execution_count": 49,
   "metadata": {},
   "outputs": [],
   "source": [
    "import pandas as pd\n",
    "import math\n",
    "from scipy.spatial import ConvexHull\n",
    "import numpy as np"
   ]
  },
  {
   "cell_type": "code",
   "execution_count": 83,
   "metadata": {},
   "outputs": [],
   "source": [
    "df = pd.read_csv(\"../data/data-ny.csv\", sep = ',', header=None, names =  ['userid', 'venueid', 'venuecatid', 'venuecatname','latitude','longitude','timezone','utctime'])\n",
    "#category = \"Coffee Shop\"\n",
    "venueid = '4ab966c3f964a5203c7f20e3'\n",
    "user = 642\n",
    "time = 16"
   ]
  },
  {
   "cell_type": "code",
   "execution_count": 161,
   "metadata": {},
   "outputs": [
    {
     "name": "stdout",
     "output_type": "stream",
     "text": [
      "1    2\n",
      "Name: userid, dtype: int64\n"
     ]
    }
   ],
   "source": [
    "users = pd.DataFrame({'count' : df.groupby(['userid']).size()}).reset_index()\n",
    "# users = df['userid'].unique()\n",
    "# print(users[0])\n",
    "#user_rows = df.loc[df['userid'] == users['userid'][0]]\n",
    "print(users[1:2].userid)"
   ]
  },
  {
   "cell_type": "code",
   "execution_count": 133,
   "metadata": {},
   "outputs": [],
   "source": [
    "category_rows = df.loc[df['venuecatname'] == category]"
   ]
  },
  {
   "cell_type": "code",
   "execution_count": 134,
   "metadata": {},
   "outputs": [
    {
     "name": "stdout",
     "output_type": "stream",
     "text": [
      "    userid                   venueid                venuecatid venuecatname  \\\n",
      "6      642  4ab966c3f964a5203c7f20e3  4bf58dd8d48988d1e0931735  Coffee Shop   \n",
      "18     895  4bb7e0c41261d13a8707e898  4bf58dd8d48988d1e0931735  Coffee Shop   \n",
      "21     284  4abe60d8f964a520198d20e3  4bf58dd8d48988d1e0931735  Coffee Shop   \n",
      "46     751  49b15042f964a520d4521fe3  4bf58dd8d48988d1e0931735  Coffee Shop   \n",
      "68     612  4ae8495ef964a5207fae21e3  4bf58dd8d48988d1e0931735  Coffee Shop   \n",
      "\n",
      "     latitude  longitude  timezone                         utctime  \n",
      "6   40.751591 -73.974121      -240  Tue Apr 03 18:04:38 +0000 2012  \n",
      "18  40.906627 -73.777774      -240  Tue Apr 03 18:11:16 +0000 2012  \n",
      "21  40.742816 -74.000406      -240  Tue Apr 03 18:12:27 +0000 2012  \n",
      "46  40.727612 -74.007306      -240  Tue Apr 03 18:24:51 +0000 2012  \n",
      "68  40.762601 -73.966006      -240  Tue Apr 03 18:42:25 +0000 2012  \n"
     ]
    }
   ],
   "source": [
    "print(category_rows.head())"
   ]
  },
  {
   "cell_type": "code",
   "execution_count": 135,
   "metadata": {},
   "outputs": [
    {
     "name": "stdout",
     "output_type": "stream",
     "text": [
      "      userid                   venueid                venuecatid  \\\n",
      "6        642  4ab966c3f964a5203c7f20e3  4bf58dd8d48988d1e0931735   \n",
      "26       642  4d9a2f78d97ba1430b43336b  4bf58dd8d48988d130941735   \n",
      "3912     642  4a4ff7a8f964a520ddaf1fe3  4bf58dd8d48988d163941735   \n",
      "4224     642  4bdf41600ee3a593bc8233b0  4bf58dd8d48988d164941735   \n",
      "4485     642  4b4cd551f964a520c8c026e3  4bf58dd8d48988d1f6941735   \n",
      "\n",
      "          venuecatname   latitude  longitude  timezone  \\\n",
      "6          Coffee Shop  40.751591 -73.974121      -240   \n",
      "26            Building  40.752307 -73.971854      -240   \n",
      "3912              Park  40.647792 -74.003735      -240   \n",
      "4224             Plaza  40.632220 -73.947299      -240   \n",
      "4485  Department Store  40.631544 -73.946874      -240   \n",
      "\n",
      "                             utctime  \n",
      "6     Tue Apr 03 18:04:38 +0000 2012  \n",
      "26    Tue Apr 03 18:14:21 +0000 2012  \n",
      "3912  Sat Apr 07 19:40:16 +0000 2012  \n",
      "4224  Sat Apr 07 22:02:45 +0000 2012  \n",
      "4485  Sun Apr 08 00:15:00 +0000 2012  \n"
     ]
    }
   ],
   "source": [
    "user_rows = df.loc[df['userid'] == user]\n",
    "print(user_rows.head())"
   ]
  },
  {
   "cell_type": "code",
   "execution_count": 136,
   "metadata": {},
   "outputs": [
    {
     "name": "stdout",
     "output_type": "stream",
     "text": [
      "   userid                   venueid   latitude  longitude  count\n",
      "0       1  3fd66200f964a52048e81ee3  40.785889 -73.976859      1\n",
      "1       1  49d2b43ef964a520cb5b1fe3  40.720087 -74.003961      7\n",
      "2       2  42829c80f964a52025221fe3  40.765901 -73.963434      1\n",
      "3       2  49c64908f964a52030571fe3  40.737189 -74.001278      1\n",
      "4       2  4a1c91b1f964a520527b1fe3  40.737194 -73.996536      1\n"
     ]
    }
   ],
   "source": [
    "user_venue_group = pd.DataFrame({'count' : category_rows.groupby(['userid','venueid', 'latitude', 'longitude']).size()}).reset_index()\n",
    "print(user_venue_group.head())"
   ]
  },
  {
   "cell_type": "code",
   "execution_count": 137,
   "metadata": {},
   "outputs": [
    {
     "name": "stdout",
     "output_type": "stream",
     "text": [
      "                    venueid   latitude  longitude  count\n",
      "0  3fd66200f964a52048e81ee3  40.785889 -73.976859      4\n",
      "1  3fd66200f964a52048e81ee3  40.785896 -73.976871      9\n",
      "2  3fd66200f964a52052e61ee3  40.729684 -73.999758      5\n",
      "3  3fd66200f964a52059e61ee3  40.729469 -74.001852      8\n",
      "4  3fd66200f964a5205dee1ee3  40.716582 -73.959020      2\n"
     ]
    }
   ],
   "source": [
    "venue_checkins = pd.DataFrame({'count' : category_rows.groupby(['venueid', 'latitude', 'longitude']).size()}).reset_index()\n",
    "print(venue_checkins.head())"
   ]
  },
  {
   "cell_type": "code",
   "execution_count": 138,
   "metadata": {},
   "outputs": [],
   "source": [
    "venue_user = dict()\n",
    "for row in user_venue_group.iterrows():\n",
    "    if row[1].venueid in venue_user:\n",
    "        s = set()\n",
    "        s = venue_user[row[1].venueid]\n",
    "        s.add(row[1].userid)\n",
    "        venue_user[row[1].venueid] = s\n",
    "    else:\n",
    "        s = set()\n",
    "        s.add(row[1].userid)\n",
    "        venue_user[row[1].venueid] = s"
   ]
  },
  {
   "cell_type": "code",
   "execution_count": 139,
   "metadata": {
    "scrolled": true
   },
   "outputs": [
    {
     "data": {
      "text/plain": [
       "{'3fd66200f964a52048e81ee3': {1,\n",
       "  66,\n",
       "  68,\n",
       "  350,\n",
       "  388,\n",
       "  397,\n",
       "  578,\n",
       "  732,\n",
       "  929,\n",
       "  953,\n",
       "  1031,\n",
       "  1039},\n",
       " '49d2b43ef964a520cb5b1fe3': {1, 372, 778, 944, 1059}}"
      ]
     },
     "execution_count": 139,
     "metadata": {},
     "output_type": "execute_result"
    }
   ],
   "source": [
    "dict(list(venue_user.items())[0:2])"
   ]
  },
  {
   "cell_type": "code",
   "execution_count": 140,
   "metadata": {},
   "outputs": [
    {
     "name": "stdout",
     "output_type": "stream",
     "text": [
      "{'food': 1.64, 'nightlife': 1.61, 'travel': 2.22, 'work': 1.62, 'home': 1.62, 'shops': 1.64, 'entertainment': 1.64, 'art': 1.64, 'parks': 1.68, 'education': 1.96}\n"
     ]
    }
   ],
   "source": [
    "alpha = {\n",
    "    'food': 1.64,\n",
    "    'nightlife': 1.61,\n",
    "    'travel': 2.22,\n",
    "    'work': 1.62,\n",
    "    'home': 1.62,\n",
    "    'shops': 1.64,\n",
    "    'entertainment': 1.64,\n",
    "    'art': 1.64,\n",
    "    'parks': 1.68,\n",
    "    'education': 1.96\n",
    "}\n",
    "print(alpha)"
   ]
  },
  {
   "cell_type": "code",
   "execution_count": 163,
   "metadata": {},
   "outputs": [
    {
     "ename": "TypeError",
     "evalue": "tuple indices must be integers or slices, not str",
     "output_type": "error",
     "traceback": [
      "\u001b[0;31m---------------------------------------------------------------------------\u001b[0m",
      "\u001b[0;31mTypeError\u001b[0m                                 Traceback (most recent call last)",
      "\u001b[0;32m<ipython-input-163-a127d9ba72bc>\u001b[0m in \u001b[0;36m<module>\u001b[0;34m()\u001b[0m\n\u001b[1;32m     11\u001b[0m     \u001b[0m_users\u001b[0m\u001b[0;34m[\u001b[0m\u001b[0;34m'longitude'\u001b[0m\u001b[0;34m]\u001b[0m \u001b[0;34m=\u001b[0m \u001b[0mavg_long\u001b[0m\u001b[0;34m\u001b[0m\u001b[0m\n\u001b[1;32m     12\u001b[0m     \u001b[0;32mreturn\u001b[0m \u001b[0m_users\u001b[0m\u001b[0;34m\u001b[0m\u001b[0m\n\u001b[0;32m---> 13\u001b[0;31m \u001b[0mx\u001b[0m \u001b[0;34m=\u001b[0m \u001b[0mcenter_of_mass\u001b[0m\u001b[0;34m(\u001b[0m\u001b[0musers\u001b[0m\u001b[0;34m,\u001b[0m \u001b[0mdf\u001b[0m\u001b[0;34m)\u001b[0m\u001b[0;34m\u001b[0m\u001b[0m\n\u001b[0m",
      "\u001b[0;32m<ipython-input-163-a127d9ba72bc>\u001b[0m in \u001b[0;36mcenter_of_mass\u001b[0;34m(users, df)\u001b[0m\n\u001b[1;32m      4\u001b[0m     \u001b[0m_users\u001b[0m \u001b[0;34m=\u001b[0m \u001b[0musers\u001b[0m\u001b[0;34m\u001b[0m\u001b[0m\n\u001b[1;32m      5\u001b[0m     \u001b[0;32mfor\u001b[0m \u001b[0mi\u001b[0m \u001b[0;32min\u001b[0m \u001b[0m_users\u001b[0m\u001b[0;34m.\u001b[0m\u001b[0miterrows\u001b[0m\u001b[0;34m(\u001b[0m\u001b[0;34m)\u001b[0m\u001b[0;34m:\u001b[0m\u001b[0;34m\u001b[0m\u001b[0m\n\u001b[0;32m----> 6\u001b[0;31m         \u001b[0muser_rows\u001b[0m \u001b[0;34m=\u001b[0m \u001b[0mdf\u001b[0m\u001b[0;34m.\u001b[0m\u001b[0mloc\u001b[0m\u001b[0;34m[\u001b[0m\u001b[0mdf\u001b[0m\u001b[0;34m[\u001b[0m\u001b[0;34m'userid'\u001b[0m\u001b[0;34m]\u001b[0m \u001b[0;34m==\u001b[0m \u001b[0mi\u001b[0m\u001b[0;34m[\u001b[0m\u001b[0;34m'userid'\u001b[0m\u001b[0;34m]\u001b[0m\u001b[0;34m]\u001b[0m\u001b[0;34m\u001b[0m\u001b[0m\n\u001b[0m\u001b[1;32m      7\u001b[0m         \u001b[0mavg_lat\u001b[0m\u001b[0;34m.\u001b[0m\u001b[0mappend\u001b[0m\u001b[0;34m(\u001b[0m\u001b[0mpd\u001b[0m\u001b[0;34m.\u001b[0m\u001b[0mDataFrame\u001b[0m\u001b[0;34m.\u001b[0m\u001b[0mmean\u001b[0m\u001b[0;34m(\u001b[0m\u001b[0muser_rows\u001b[0m\u001b[0;34m[\u001b[0m\u001b[0;34m'latitude'\u001b[0m\u001b[0;34m]\u001b[0m\u001b[0;34m)\u001b[0m\u001b[0;34m)\u001b[0m\u001b[0;34m\u001b[0m\u001b[0m\n\u001b[1;32m      8\u001b[0m         \u001b[0mavg_long\u001b[0m\u001b[0;34m.\u001b[0m\u001b[0mappend\u001b[0m\u001b[0;34m(\u001b[0m\u001b[0mpd\u001b[0m\u001b[0;34m.\u001b[0m\u001b[0mDataFrame\u001b[0m\u001b[0;34m.\u001b[0m\u001b[0mmean\u001b[0m\u001b[0;34m(\u001b[0m\u001b[0muser_rows\u001b[0m\u001b[0;34m[\u001b[0m\u001b[0;34m'longitude'\u001b[0m\u001b[0;34m]\u001b[0m\u001b[0;34m)\u001b[0m\u001b[0;34m)\u001b[0m\u001b[0;34m\u001b[0m\u001b[0m\n",
      "\u001b[0;31mTypeError\u001b[0m: tuple indices must be integers or slices, not str"
     ]
    }
   ],
   "source": [
    "def center_of_mass(users, df):\n",
    "    avg_lat = []\n",
    "    avg_long = []\n",
    "    _users = users\n",
    "    for index, row in _users.iterrows():\n",
    "        user_rows = df.loc[df['userid'] == row['userid']]\n",
    "        avg_lat.append(pd.DataFrame.mean(user_rows['latitude']))\n",
    "        avg_long.append(pd.DataFrame.mean(user_rows['longitude']))\n",
    "    print(avg_lat[:5])\n",
    "    _users['latitude'] = avg_lat\n",
    "    _users['longitude'] = avg_long\n",
    "    return _users\n",
    "x = center_of_mass(users, df)"
   ]
  },
  {
   "cell_type": "code",
   "execution_count": 147,
   "metadata": {},
   "outputs": [
    {
     "name": "stdout",
     "output_type": "stream",
     "text": [
      "0    1\n",
      "1    2\n",
      "2    3\n",
      "3    4\n",
      "4    5\n",
      "Name: userid, dtype: object\n"
     ]
    }
   ],
   "source": [
    "print(x.head())"
   ]
  },
  {
   "cell_type": "code",
   "execution_count": 148,
   "metadata": {},
   "outputs": [
    {
     "name": "stdout",
     "output_type": "stream",
     "text": [
      "0    1\n",
      "1    2\n",
      "2    3\n",
      "3    4\n",
      "4    5\n",
      "Name: userid, dtype: object\n"
     ]
    }
   ],
   "source": [
    "print(x.head())"
   ]
  },
  {
   "cell_type": "code",
   "execution_count": 75,
   "metadata": {},
   "outputs": [
    {
     "name": "stdout",
     "output_type": "stream",
     "text": [
      "279    40.751591\n",
      "Name: latitude, dtype: float64\n",
      "279   -73.974121\n",
      "Name: longitude, dtype: float64\n"
     ]
    }
   ],
   "source": [
    "def get_lat_long(venueid, venue_checkins):\n",
    "    row = venue_checkins.loc[venue_checkins['venueid'] == venueid ]\n",
    "    #print(row)\n",
    "    return row['latitude'], row['longitude']\n",
    "y,z = get_lat_long(venueid, venue_checkins)\n",
    "print(y)\n",
    "print(z)"
   ]
  },
  {
   "cell_type": "code",
   "execution_count": null,
   "metadata": {},
   "outputs": [],
   "source": []
  },
  {
   "cell_type": "code",
   "execution_count": 76,
   "metadata": {},
   "outputs": [],
   "source": [
    "def haversine_dist(lat1, lon1, lat2, lon2):\n",
    "    \"\"\"Calculate the Haversine distance between two geo co-ordiantes.\"\"\"\n",
    "    radius = 3959  # miles\n",
    "    dlat = math.radians(lat2 - lat1)\n",
    "    dlon = math.radians(lon2 - lon1)\n",
    "    a = math.sin(dlat / 2) * math.sin(dlat / 2) + math.cos(math.radians(lat1)) * math.cos(math.radians(lat2)) * math.sin(dlon / 2) * math.sin(dlon / 2)\n",
    "    c = 2 * math.atan2(math.sqrt(a), math.sqrt(1 - a))\n",
    "    d = radius * c\n",
    "    return d"
   ]
  },
  {
   "cell_type": "code",
   "execution_count": 77,
   "metadata": {},
   "outputs": [
    {
     "name": "stdout",
     "output_type": "stream",
     "text": [
      "3.3597457401204\n"
     ]
    }
   ],
   "source": [
    "\n",
    "x = center_of_mass(user_rows)\n",
    "y,z = get_lat_long(venueid, venue_checkins)\n",
    "dist = haversine_dist(x[0], x[1], y, z)\n",
    "print(dist)"
   ]
  },
  {
   "cell_type": "code",
   "execution_count": null,
   "metadata": {},
   "outputs": [],
   "source": []
  }
 ],
 "metadata": {
  "kernelspec": {
   "display_name": "Python 3",
   "language": "python",
   "name": "python3"
  },
  "language_info": {
   "codemirror_mode": {
    "name": "ipython",
    "version": 3
   },
   "file_extension": ".py",
   "mimetype": "text/x-python",
   "name": "python",
   "nbconvert_exporter": "python",
   "pygments_lexer": "ipython3",
   "version": "3.6.4"
  }
 },
 "nbformat": 4,
 "nbformat_minor": 2
}
